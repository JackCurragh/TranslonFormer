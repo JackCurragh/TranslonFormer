{
 "cells": [
  {
   "cell_type": "markdown",
   "metadata": {},
   "source": [
    "# Transfer Learning for mRNA Translation Efficiency Prediction\n",
    "\n",
    "## 1. Importing Required Libraries\n",
    "\n",
    "First, let's import the necessary libraries:\n"
   ]
  },
  {
   "cell_type": "code",
   "execution_count": 25,
   "metadata": {},
   "outputs": [
    {
     "name": "stdout",
     "output_type": "stream",
     "text": [
      "/data1/Jack/projects/TranslonFormer/.cache\n"
     ]
    }
   ],
   "source": [
    "import os\n",
    "\n",
    "# Set the cache directory to your desired path\n",
    "os.environ['HF_HOME'] = '/data1/Jack/projects/TranslonFormer/.cache'\n",
    "\n",
    "# Optionally, you can print the path to verify\n",
    "print(os.getenv('HF_HOME'))"
   ]
  },
  {
   "cell_type": "code",
   "execution_count": 26,
   "metadata": {},
   "outputs": [],
   "source": [
    "import torch\n",
    "import torch.nn as nn\n",
    "from transformers import AutoModel, AutoTokenizer\n",
    "\n"
   ]
  },
  {
   "cell_type": "markdown",
   "metadata": {},
   "source": [
    "## 2. Defining the Model\n",
    "\n",
    "Now, we'll define our model class that uses a pre-trained BERT model and adds a custom classifier for our specific task.\n"
   ]
  },
  {
   "cell_type": "code",
   "execution_count": 27,
   "metadata": {},
   "outputs": [],
   "source": [
    "class mRNATranslationEfficiencyPredictor(nn.Module):\n",
    "    def __init__(self, pretrained_model_name, num_labels):\n",
    "        super(mRNATranslationEfficiencyPredictor, self).__init__()\n",
    "        self.nucleotide_transformer = AutoModel.from_pretrained(pretrained_model_name)\n",
    "        \n",
    "        # Freeze the Nucleotide Transformer parameters\n",
    "        for param in self.nucleotide_transformer.parameters():\n",
    "            param.requires_grad = False\n",
    "        \n",
    "        # Add a custom classifier\n",
    "        self.classifier = nn.Sequential(\n",
    "            nn.Linear(self.nucleotide_transformer.config.hidden_size, 256),\n",
    "            nn.ReLU(),\n",
    "            nn.Dropout(0.1),\n",
    "            nn.Linear(256, num_labels)\n",
    "        )\n",
    "\n",
    "    def forward(self, input_ids, attention_mask):\n",
    "        outputs = self.nucleotide_transformer(input_ids=input_ids, attention_mask=attention_mask)\n",
    "        sequence_output = outputs.last_hidden_state[:, 0, :]  # We use the [CLS] token representation\n",
    "        return self.classifier(sequence_output)"
   ]
  },
  {
   "cell_type": "markdown",
   "metadata": {},
   "source": [
    "**Motivation:** \n",
    "- We freeze the pre-trained layers to preserve the valuable features learned during pre-training.\n",
    "- We replace the output layer with a custom classifier tailored to our task of predicting translation efficiency."
   ]
  },
  {
   "cell_type": "markdown",
   "metadata": {},
   "source": [
    "## 3. Instantiating the Model\n",
    "\n",
    "Let's create an instance of our model:"
   ]
  },
  {
   "cell_type": "code",
   "execution_count": 28,
   "metadata": {},
   "outputs": [
    {
     "data": {
      "application/vnd.jupyter.widget-view+json": {
       "model_id": "9da41df6f46f444a9eb9121cf3285eac",
       "version_major": 2,
       "version_minor": 0
      },
      "text/plain": [
       "Loading checkpoint shards:   0%|          | 0/2 [00:00<?, ?it/s]"
      ]
     },
     "metadata": {},
     "output_type": "display_data"
    },
    {
     "name": "stderr",
     "output_type": "stream",
     "text": [
      "Some weights of EsmModel were not initialized from the model checkpoint at InstaDeepAI/nucleotide-transformer-2.5b-multi-species and are newly initialized: ['esm.pooler.dense.bias', 'esm.pooler.dense.weight']\n",
      "You should probably TRAIN this model on a down-stream task to be able to use it for predictions and inference.\n"
     ]
    }
   ],
   "source": [
    "pretrained_model_name = \"InstaDeepAI/nucleotide-transformer-2.5b-multi-species\"\n",
    "num_labels = 1  # For regression task (e.g., predicting translation efficiency score)\n",
    "\n",
    "model = mRNATranslationEfficiencyPredictor(pretrained_model_name, num_labels)"
   ]
  },
  {
   "cell_type": "markdown",
   "metadata": {},
   "source": [
    "\n",
    "## 4. Preparing Data and Making Predictions\n",
    "\n",
    "Here's how you can prepare your data and use the model for predictions:"
   ]
  },
  {
   "cell_type": "code",
   "execution_count": 29,
   "metadata": {},
   "outputs": [
    {
     "name": "stdout",
     "output_type": "stream",
     "text": [
      "Predicted translation efficiency: 0.03822122514247894\n"
     ]
    }
   ],
   "source": [
    "# Prepare your data\n",
    "tokenizer = AutoTokenizer.from_pretrained(pretrained_model_name)\n",
    "mrna_sequence = \"AUGGGCUAA\"\n",
    "inputs = tokenizer(mrna_sequence, return_tensors=\"pt\")\n",
    "\n",
    "# Make predictions\n",
    "with torch.no_grad():\n",
    "    prediction = model(**inputs)\n",
    "\n",
    "print(f\"Predicted translation efficiency: {prediction.item()}\")"
   ]
  },
  {
   "cell_type": "markdown",
   "metadata": {},
   "source": [
    "# 6. Creating a Custom Dataset and DataLoader\n",
    "To efficiently handle your mRNA data, we'll create a custom Dataset class and use it with PyTorch's DataLoader. Here's how you can do this:"
   ]
  },
  {
   "cell_type": "code",
   "execution_count": 30,
   "metadata": {},
   "outputs": [],
   "source": [
    "import torch\n",
    "from torch.utils.data import Dataset, DataLoader\n",
    "from transformers import AutoTokenizer\n",
    "\n",
    "class mRNADataset(Dataset):\n",
    "    def __init__(self, sequences, efficiency_scores, tokenizer, max_length=512):\n",
    "        self.sequences = sequences\n",
    "        self.efficiency_scores = efficiency_scores\n",
    "        self.tokenizer = tokenizer\n",
    "        self.max_length = max_length\n",
    "\n",
    "    def __len__(self):\n",
    "        return len(self.sequences)\n",
    "\n",
    "    def __getitem__(self, idx):\n",
    "        sequence = self.sequences[idx]\n",
    "        efficiency_score = self.efficiency_scores[idx]\n",
    "\n",
    "        # Tokenize the sequence\n",
    "        encoding = self.tokenizer.encode_plus(\n",
    "            sequence,\n",
    "            add_special_tokens=True,\n",
    "            max_length=self.max_length,\n",
    "            padding='max_length',\n",
    "            truncation=True,\n",
    "            return_tensors='pt'\n",
    "        )\n",
    "\n",
    "        return {\n",
    "            'input_ids': encoding['input_ids'].flatten(),\n",
    "            'attention_mask': encoding['attention_mask'].flatten(),\n",
    "            'labels': torch.tensor(efficiency_score, dtype=torch.float)\n",
    "        }\n",
    "\n",
    "# Example usage:\n",
    "pretrained_model_name = \"InstaDeepAI/nucleotide-transformer-2.5b-multi-species\"\n",
    "tokenizer = AutoTokenizer.from_pretrained(pretrained_model_name)\n",
    "\n",
    "# Assume you have these lists of sequences and scores\n",
    "mRNA_sequences = [\"AUGGGCUAA\", \"CUAGUGAAU\", \"GGGAAAUUU\"]  # Add your mRNA sequences here\n",
    "efficiency_scores = [0.75, 0.62, 0.88]  # Add corresponding efficiency scores here\n",
    "\n",
    "# Create the dataset\n",
    "dataset = mRNADataset(mRNA_sequences, efficiency_scores, tokenizer)\n",
    "\n",
    "# Create the DataLoader\n",
    "batch_size = 16\n",
    "dataloader = DataLoader(dataset, batch_size=batch_size, shuffle=True)\n"
   ]
  },
  {
   "cell_type": "code",
   "execution_count": 32,
   "metadata": {},
   "outputs": [
    {
     "name": "stdout",
     "output_type": "stream",
     "text": [
      "Epoch 1/10, Average Loss: 0.4589\n",
      "Epoch 2/10, Average Loss: 0.4908\n",
      "Epoch 3/10, Average Loss: 0.4886\n",
      "Epoch 4/10, Average Loss: 0.4135\n",
      "Epoch 5/10, Average Loss: 0.5923\n",
      "Epoch 6/10, Average Loss: 0.4903\n",
      "Epoch 7/10, Average Loss: 0.4997\n",
      "Epoch 8/10, Average Loss: 0.5017\n",
      "Epoch 9/10, Average Loss: 0.4868\n",
      "Epoch 10/10, Average Loss: 0.5062\n"
     ]
    }
   ],
   "source": [
    "device = torch.device(\"cuda\" if torch.cuda.is_available() else \"cpu\")\n",
    "\n",
    "\n",
    "num_epochs = 10\n",
    "for epoch in range(num_epochs):\n",
    "    model.train()\n",
    "    total_loss = 0\n",
    "    for batch in dataloader:\n",
    "        optimizer.zero_grad()\n",
    "        \n",
    "        input_ids = batch['input_ids'].to(device)\n",
    "        attention_mask = batch['attention_mask'].to(device)\n",
    "        labels = batch['labels'].to(device)\n",
    "        \n",
    "        outputs = model(input_ids=input_ids, attention_mask=attention_mask)\n",
    "        loss = loss_fn(outputs.squeeze(), labels)\n",
    "        \n",
    "        loss.backward()\n",
    "        optimizer.step()\n",
    "        \n",
    "        total_loss += loss.item()\n",
    "    \n",
    "    avg_loss = total_loss / len(dataloader)\n",
    "    print(f\"Epoch {epoch+1}/{num_epochs}, Average Loss: {avg_loss:.4f}\")"
   ]
  }
 ],
 "metadata": {
  "kernelspec": {
   "display_name": "TranslonFormer",
   "language": "python",
   "name": "python3"
  },
  "language_info": {
   "codemirror_mode": {
    "name": "ipython",
    "version": 3
   },
   "file_extension": ".py",
   "mimetype": "text/x-python",
   "name": "python",
   "nbconvert_exporter": "python",
   "pygments_lexer": "ipython3",
   "version": "3.12.7"
  }
 },
 "nbformat": 4,
 "nbformat_minor": 2
}
